{
 "cells": [
  {
   "cell_type": "markdown",
   "metadata": {},
   "source": [
    "# Языковое моделирование"
   ]
  },
  {
   "cell_type": "markdown",
   "metadata": {},
   "source": [
    "# Генерация случайных текстов (Д/З)"
   ]
  },
  {
   "cell_type": "code",
   "execution_count": 1,
   "metadata": {
    "collapsed": true
   },
   "outputs": [],
   "source": [
    "from collections import Counter\n",
    "from collections import defaultdict\n",
    "import numpy as np"
   ]
  },
  {
   "cell_type": "code",
   "execution_count": 2,
   "metadata": {
    "collapsed": false
   },
   "outputs": [],
   "source": [
    "def count(text, order = 4):\n",
    "    ngrams= defaultdict(Counter)\n",
    "    for i in range(len(text) - order):\n",
    "        igram = text[i:i + order]\n",
    "        ngrams[igram].update(text[i+order])\n",
    "\n",
    "    result = []\n",
    "    for i, freq in ngrams.items():\n",
    "        temp = []\n",
    "        for char in freq:\n",
    "            temp.append((char, freq[char]/sum(freq.values())))\n",
    "        result.append((i, temp))\n",
    "\n",
    "    return dict(result)"
   ]
  },
  {
   "cell_type": "code",
   "execution_count": 3,
   "metadata": {
    "collapsed": false
   },
   "outputs": [],
   "source": [
    "from random import choice\n",
    "import numpy as np\n",
    "\n",
    "def generate_letter(result, out, order):\n",
    "    \n",
    "    out = out[-order:]\n",
    "    dist = result[''.join(out)]\n",
    "    \n",
    "    return np.random.choice([i[0] for i in dist], p=[i[1] for i in dist])\n",
    "        \n",
    "def generate_text(result, order, n_letters=1000):\n",
    "\n",
    "    out = []    \n",
    "    out += np.random.choice(list(result.keys()))\n",
    "    \n",
    "    for i in range(n_letters-order):\n",
    "        out.append(generate_letter(result, out, order))\n",
    "        \n",
    "    return ''.join(out)"
   ]
  },
  {
   "cell_type": "code",
   "execution_count": 4,
   "metadata": {
    "collapsed": false
   },
   "outputs": [
    {
     "name": "stdout",
     "output_type": "stream",
     "text": [
      "Go affright,\n",
      "So we much a onest in herefore out the were Tyrus rage thou by thin too.\n",
      "\n",
      "LADY ANNE PAGE:\n",
      "\n",
      "DOGBERRY:\n",
      "The virtue of Venice the sight\n",
      "A Troilus.\n",
      "\n",
      "DON ADRIANA:\n",
      "All think upon their skitlessibility,\n",
      "Horne in\n",
      "myself? I dwell.\n",
      "\n",
      "TRANIO:\n",
      "Yes, sir,\n",
      "Incapable nightness' fear. Wilt wast some claim?\n",
      "\n",
      "Message to\n",
      "action's est hold usurpled instrong,\n",
      "And abuses requestion\n",
      "Didst their our of my have men, than the famine ere of it; for your will contrary gave him:\n",
      "If no crown to\n",
      "this\n",
      "Forbid apparences a suit,\n",
      "I hopes two not.\n",
      "I am I shook!\n",
      "I thine earthly to know Dover me stay.\n",
      "\n",
      "VERGES:\n",
      "And excellent off my armine own do interies\n",
      "Even beauty's lady; for thus;\n",
      "I can do\n",
      "it not kept hitherefore more;\n",
      "My songs me our time, curtsy as that telligence,\n",
      "That say my so eternoon.\n",
      "\n",
      "GLOUCESTER:\n",
      "Upon the reson\n",
      "Of it is charge;\n",
      "Know you will,\n",
      "God brother for a lease.\n",
      "\n",
      "WARWICK:\n",
      "This dutifull close your enemies one joyfull out? says burgonet.\n",
      "\n",
      "RODERIGO:\n",
      "Dismal false while your rich'd\n",
      "With to brother. Heav\n"
     ]
    }
   ],
   "source": [
    "with open('shakespeare_input.txt', 'r') as fin:\n",
    "    result_final = generate_text(count(fin.read(), 4), 4, 1000)\n",
    "    \n",
    "print(result_final)"
   ]
  },
  {
   "cell_type": "code",
   "execution_count": 5,
   "metadata": {
    "collapsed": false
   },
   "outputs": [
    {
     "name": "stdout",
     "output_type": "stream",
     "text": [
      "rd, for mirth and honour.\n",
      "It is not possible;\n",
      "Strange intellect is not be tied to the pope,\n",
      "To pinch him towards you intend to suppress'd. But what, are they last, a little as we pass along!\n",
      "\n",
      "AGRIPPA:\n",
      "Good madonna.\n",
      "\n",
      "OLIVIA:\n",
      "Cousin of Exeter is make no use of sorrow\n",
      "That will I.\n",
      "\n",
      "HOTSPUR:\n",
      "No harm, good my lord; it does offence.\n",
      "How now, sirrah?\n",
      "\n",
      "POMPEY:\n",
      "Let me speak.\n",
      "\n",
      "First Citizen:\n",
      "Then, Richard how near night.\n",
      "The bay-trees in this cold moon and that looks ill, it eats and me! for aught I know--\n",
      "\n",
      "DUKE VINCENTIO:\n",
      "Hath an argument\n",
      "That you born?\n",
      "And when a man of justice. A word, my lord of Ireland and France, be gone.\n",
      "\n",
      "CASSIO:\n",
      "I had rather was Lionel Duke of York\n",
      "Shall be no shelter me hath quench'd\n",
      "Of hope, not little officers,\n",
      "And gentleman:\n",
      "Yes, faith; an thou'lt desire; therefore need.\n",
      "\n",
      "COUNTESS:\n",
      "Brought his doubled down?\n",
      "\n",
      "BASTARD:\n",
      "Hubert should speak, too threat your mistress, when\n",
      "Ye should die,\n",
      "With rounds apace: we shall hear the dialogue of custom\n",
      "Is breach them, who to that a\n"
     ]
    }
   ],
   "source": [
    "with open('shakespeare_input.txt', 'r') as fin:\n",
    "    result_final = generate_text(count(fin.read(), 8), 8, 1000)\n",
    "    \n",
    "print(result_final)"
   ]
  },
  {
   "cell_type": "code",
   "execution_count": 6,
   "metadata": {
    "collapsed": false
   },
   "outputs": [
    {
     "name": "stdout",
     "output_type": "stream",
     "text": [
      "e shore\n",
      "Throng many doubtful hollow-hearted friends,\n",
      "Not mutinous in peace, yet bold in war;\n",
      "Those will I muster up: and thou, son Clarence,\n",
      "Shalt stir up in Suffolk, Norfolk, and in Kent,\n",
      "The knights and gentlemen to come with thee:\n",
      "Thou, brother Montague.\n",
      "Attend me, lords. The proud insulting boy!\n",
      "Becomes it thee to taunt his valiant age\n",
      "And twit with cowardice--\n",
      "An honour in him which buys out his fault--\n",
      "But with a noble fury and fair spirit,\n",
      "Seeing his reputation with the duke?\n",
      "\n",
      "PAROLLES:\n",
      "The duke knows him for no other but a poor officer\n",
      "of mine; and writ to me this other day to turn him\n",
      "out o' the band: I think I have the back-trick simply as strong\n",
      "as any man in Illyria.\n",
      "\n",
      "Clown:\n",
      "Well-a-day that you were, sir\n",
      "\n",
      "MALVOLIO:\n",
      "By this hand, they are scoundrels and subtractors\n",
      "that say so of him. Who are they?\n",
      "\n",
      "MARIA:\n",
      "They that add, moreover, he's drunk nightly in your company.\n",
      "\n",
      "Volsce:\n",
      "You take my part from me, sir; I have heard the prince tell him, I know not\n",
      "how oft, that ring was copper!\n",
      "\n",
      "FALSTAFF:\n",
      "How! the prince is a Jack, a sneak-cup: 'sblood, an\n",
      "he were here, I would cudgel him like a dog, if he\n",
      "would say so.\n",
      "How now, lad! is the wind in that corner?\n",
      "\n",
      "LEONATO:\n",
      "By my troth, a pleasant-spirited lady.\n",
      "\n",
      "LEONATO:\n",
      "Dost thou look up?\n",
      "\n",
      "FRIAR FRANCIS:\n",
      "Lady, what man is he you are accused of?\n",
      "\n",
      "HERO:\n",
      "They know that do accuse me?\n",
      "What lawful quest have given their verdict up\n",
      "Unto the frowning judge? or who pronounced\n",
      "The name of Prosper: it did bass my trespass.\n",
      "Therefore my son i' the ooze is bedded, and\n",
      "I'll seek him deeper than e'er plummet sound\n",
      "I'll drown my book.\n",
      "A solemn air and the best comforter\n",
      "To an unsettled fancy cure thy brains,\n",
      "Now useless, boil'd within thy skull! There stand,\n",
      "For you are spell-stopp'd.\n",
      "Holy Gonzalo, honourable man,\n",
      "Mine eyes, even sociable to the show of thine,\n",
      "Fall fellowly drops. The charm dissolves apace,\n",
      "And as the morning steals upon the night,\n",
      "Melting the darkness, so their rising senses\n",
      "Begin to chase the ignorant fumes that mantl\n"
     ]
    }
   ],
   "source": [
    "with open('shakespeare_input.txt', 'r') as fin:\n",
    "    result_final = generate_text(count(fin.read(), 16), 16, 2000)\n",
    "    \n",
    "print(result_final)"
   ]
  },
  {
   "cell_type": "code",
   "execution_count": null,
   "metadata": {
    "collapsed": true
   },
   "outputs": [],
   "source": []
  }
 ],
 "metadata": {
  "kernelspec": {
   "display_name": "Python 3",
   "language": "python",
   "name": "python3"
  },
  "language_info": {
   "codemirror_mode": {
    "name": "ipython",
    "version": 3
   },
   "file_extension": ".py",
   "mimetype": "text/x-python",
   "name": "python",
   "nbconvert_exporter": "python",
   "pygments_lexer": "ipython3",
   "version": "3.5.2"
  }
 },
 "nbformat": 4,
 "nbformat_minor": 0
}
